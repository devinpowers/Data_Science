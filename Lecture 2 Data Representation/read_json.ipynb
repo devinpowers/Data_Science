{
 "cells": [
  {
   "cell_type": "code",
   "execution_count": 9,
   "metadata": {
    "collapsed": false
   },
   "outputs": [],
   "source": [
    "import json\n",
    "\n",
    "f = open('cdc.json')\n",
    "tweets = [json.loads(line) for line in f]\n",
    "f.close()"
   ]
  },
  {
   "cell_type": "raw",
   "metadata": {},
   "source": [
    "# Count the number of times each word appears in a tweet"
   ]
  },
  {
   "cell_type": "code",
   "execution_count": 54,
   "metadata": {
    "collapsed": false
   },
   "outputs": [],
   "source": [
    "from collections import defaultdict\n",
    "\n",
    "counts = defaultdict(int)   # count values are initialized to 0\n",
    "for tweet in tweets:\n",
    "    words = tweet['text'].split(' ')\n",
    "    for word in words:\n",
    "        counts[word] += 1"
   ]
  },
  {
   "cell_type": "raw",
   "metadata": {},
   "source": [
    "# Sort the terms based on frequencies and find the 10 most popular terms"
   ]
  },
  {
   "cell_type": "code",
   "execution_count": 67,
   "metadata": {
    "collapsed": false
   },
   "outputs": [
    {
     "data": {
      "text/plain": [
       "[(u'for', 10),\n",
       " (u'of', 10),\n",
       " (u'#Zika', 11),\n",
       " (u'CDC', 12),\n",
       " (u'&amp;', 13),\n",
       " (u'@DrFriedenCDC:', 15),\n",
       " (u'RT', 18),\n",
       " (u'in', 20),\n",
       " (u'the', 23),\n",
       " (u'to', 33)]"
      ]
     },
     "execution_count": 67,
     "metadata": {},
     "output_type": "execute_result"
    }
   ],
   "source": [
    "import operator\n",
    "sorted_words = sorted(counts.items(), key=operator.itemgetter(1))\n",
    "sorted_words[-10:]"
   ]
  },
  {
   "cell_type": "code",
   "execution_count": null,
   "metadata": {
    "collapsed": true
   },
   "outputs": [],
   "source": []
  }
 ],
 "metadata": {
  "anaconda-cloud": {},
  "kernelspec": {
   "display_name": "Python [default]",
   "language": "python",
   "name": "python2"
  },
  "language_info": {
   "codemirror_mode": {
    "name": "ipython",
    "version": 2
   },
   "file_extension": ".py",
   "mimetype": "text/x-python",
   "name": "python",
   "nbconvert_exporter": "python",
   "pygments_lexer": "ipython2",
   "version": "2.7.12"
  }
 },
 "nbformat": 4,
 "nbformat_minor": 1
}
